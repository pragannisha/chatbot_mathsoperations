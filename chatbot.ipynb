{
  "nbformat": 4,
  "nbformat_minor": 0,
  "metadata": {
    "colab": {
      "provenance": []
    },
    "kernelspec": {
      "name": "python3",
      "display_name": "Python 3"
    },
    "language_info": {
      "name": "python"
    }
  },
  "cells": [
    {
      "cell_type": "code",
      "execution_count": 1,
      "metadata": {
        "id": "wjq4I5EcmUlK"
      },
      "outputs": [],
      "source": [
        "import re\n",
        "import random"
      ]
    },
    {
      "cell_type": "code",
      "source": [
        "class RuleBot:\n",
        "  #to exit\n",
        "  exitwords=(\"thank you\",\"no\",\"bye\")\n",
        "\n",
        "  def __init__(self):\n",
        "    self.intents={\n",
        "        'add':r'.*\\s*add',\n",
        "        'sub':r'.*\\s*sub',\n",
        "        'mul':r'.*\\s*multi',\n",
        "        'div':r'.*\\s*divi'\n",
        "    }\n",
        "  def greet(self):\n",
        "    print(\"welcome,I am a Rule-Bot,How may I help You?\")\n",
        "    self.chat()\n",
        "\n",
        "  def exits(self,reply):\n",
        "    for command in self.exitwords:\n",
        "      if reply==command:\n",
        "        print('okay,feel free to ask if you need anything')\n",
        "        return True\n",
        "  def chat(self):\n",
        "  \n",
        "    reply=input(\"\\n\").lower()\n",
        "    while not self.exits(reply):\n",
        "      reply=input(self.match_reply(reply))\n",
        "\n",
        "  def match_reply(self,reply):\n",
        "    a=int(input('first operand '))\n",
        "    b=int(input('second operand '))\n",
        "    for key,value in self.intents.items():\n",
        "      intent=key\n",
        "      regex_pattern=value\n",
        "      found_match=re.match(regex_pattern,reply)\n",
        "      if found_match and intent == 'add':\n",
        "        ans= self.add(a,b)\n",
        "        return \"sum of \"+str(a)+\" and \"+str(b)+\" = \"+str(ans)+\"\\n\"\n",
        "      elif found_match and intent == 'sub':\n",
        "        ans= self.sub(a,b)\n",
        "        return \"subtraction of \"+str(a)+\" from \"+str(b)+\" = \"+str(ans)+\"\\n\"\n",
        "      elif found_match and intent == 'div':\n",
        "        ans= self.div(a,b)\n",
        "        return \"division of \"+str(a)+\" by \"+str(b)+\" = \"+str(ans)+\"\\n\"\n",
        "      elif found_match and intent == 'mul':\n",
        "        ans= self.mul(a,b)\n",
        "        return \"multiplication of \"+str(a)+\" and \"+str(b)+\" = \"+str(ans)+\"\\n\"\n",
        "    if not found_match:\n",
        "      return self.no_match_found()\n",
        "  \n",
        "\n",
        "  \n",
        "  def add(self,a,b):\n",
        "    return a+b\n",
        "  def sub(self,a,b):\n",
        "    return a-b\n",
        "  def mul(self,a,b):\n",
        "    return a*b\n",
        "  def div(self,a,b):\n",
        "    if b!=0:\n",
        "      return a/b\n",
        "    return \"enter valid operator\"\n",
        "  def no_match_found(self):\n",
        "    responses=(\"Sorry,I don't understand.\\n\",\"could you brief it in a sentence.\\n\")\n",
        "    return random.choice(responses)\n",
        "bots=RuleBot()\n",
        "bots.greet()\n",
        "    \n",
        "\n",
        "\n",
        "\n",
        "\n",
        "\n"
      ],
      "metadata": {
        "colab": {
          "base_uri": "https://localhost:8080/"
        },
        "id": "-yuhWC-Sne9k",
        "outputId": "53962c44-feb1-40f7-d05c-b8a1f6aea91e"
      },
      "execution_count": 43,
      "outputs": [
        {
          "output_type": "stream",
          "name": "stdout",
          "text": [
            "welcome,I am a Rule-Bot,How may I help You?\n",
            "\n",
            "addition\n",
            "first operand 4\n",
            "second operand 3\n",
            "sum of 4 and 3 = 7\n",
            "sub\n",
            "first operand 9\n",
            "second operand 4\n",
            "subtraction of 9 from 4 = 5\n",
            "would you perform multiplication?\n",
            "first operand 4\n",
            "second operand 5\n",
            "multiplication of 4 and 5 = 20\n",
            "how about division?\n",
            "first operand 4\n",
            "second operand 0\n",
            "division of 4 by 0 = enter valid operator\n",
            "fividisom\n",
            "first operand 3\n",
            "second operand 4\n",
            "could you brief it in a sentence.\n",
            "no\n",
            "okay,feel free to ask if you need anything\n"
          ]
        }
      ]
    },
    {
      "cell_type": "code",
      "source": [],
      "metadata": {
        "id": "i5xL-kAb4RcR"
      },
      "execution_count": null,
      "outputs": []
    }
  ]
}